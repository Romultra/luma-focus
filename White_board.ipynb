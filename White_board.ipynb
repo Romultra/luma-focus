{
 "cells": [
  {
   "cell_type": "code",
   "execution_count": 1,
   "metadata": {},
   "outputs": [],
   "source": [
    "import sympy as sp"
   ]
  },
  {
   "cell_type": "code",
   "execution_count": 2,
   "metadata": {},
   "outputs": [
    {
     "data": {
      "text/latex": [
       "$\\displaystyle x = r \\sin{\\left(t \\right)} - \\frac{r \\left(t + \\theta - \\cos{\\left(t - \\theta \\right)} + \\frac{\\pi}{2}\\right) \\cos{\\left(t \\right)}}{\\sin{\\left(t - \\theta \\right)} + 1}$"
      ],
      "text/plain": [
       "Eq(x, r*sin(t) - r*(t + theta - cos(t - theta) + pi/2)*cos(t)/(sin(t - theta) + 1))"
      ]
     },
     "metadata": {},
     "output_type": "display_data"
    },
    {
     "data": {
      "text/latex": [
       "$\\displaystyle 100.0 = - 14 \\cos{\\left(\\theta \\right)} + \\frac{14 \\left(\\sin{\\left(2 \\theta \\right)} + 2 \\pi\\right) \\sin{\\left(\\theta \\right)}}{1 - \\cos{\\left(2 \\theta \\right)}}$"
      ],
      "text/plain": [
       "Eq(100.0, -14*cos(theta) + 14*(sin(2*theta) + 2*pi)*sin(theta)/(1 - cos(2*theta)))"
      ]
     },
     "metadata": {},
     "output_type": "display_data"
    }
   ],
   "source": [
    "theta, x, r, t = sp.symbols('theta x r t')\n",
    "\n",
    "# Define the functions\n",
    "I = (r*(sp.pi/2 + t + theta - sp.cos(t-theta)))/(1+sp.sin(t-theta))\n",
    "f = r * sp.sin(t) - I*sp.cos(t)\n",
    "\n",
    "# Define the equation\n",
    "eq = sp.Eq(x, f)\n",
    "display(eq)\n",
    "\n",
    "# Real values\n",
    "r_val = 14\n",
    "x_val = 200/2\n",
    "t_val = 3*sp.pi/2 - theta\n",
    "\n",
    "# Solve the equation\n",
    "display(eq.subs({r: r_val, x: x_val, t: t_val}))\n",
    "#sol = sp.solve(eq.subs({r: r_val, x: x_val, t: t_val}), theta)\n",
    "#display(sol)\n",
    "#(sp.re(sol[2])*180/sp.pi).evalf()"
   ]
  },
  {
   "cell_type": "code",
   "execution_count": 10,
   "metadata": {},
   "outputs": [
    {
     "name": "stdout",
     "output_type": "stream",
     "text": [
      "Solution for t (radians):\n",
      " [3.74411623 3.80512252 3.8747912  3.95848134 4.07235941 4.24570026\n",
      " 4.21257417 4.17895289 4.14665134 4.11245288]\n"
     ]
    },
    {
     "name": "stderr",
     "output_type": "stream",
     "text": [
      "C:\\Users\\romul\\AppData\\Local\\Temp\\ipykernel_14604\\1998472244.py:31: RuntimeWarning: The iteration is not making good progress, as measured by the \n",
      "  improvement from the last ten iterations.\n",
      "  soli= fsolve(equation, initial_guess[i], args=(theta))\n",
      "C:\\Users\\romul\\AppData\\Local\\Temp\\ipykernel_14604\\1998472244.py:31: RuntimeWarning: The iteration is not making good progress, as measured by the \n",
      "  improvement from the last five Jacobian evaluations.\n",
      "  soli= fsolve(equation, initial_guess[i], args=(theta))\n"
     ]
    },
    {
     "data": {
      "text/plain": [
       "array([ 85.77698195,  95.94813842, 108.91100416, 126.95820621,\n",
       "       157.74411692, 225.15352809, 197.21362308, 174.02491428,\n",
       "       155.14805301, 138.66981857])"
      ]
     },
     "execution_count": 10,
     "metadata": {},
     "output_type": "execute_result"
    }
   ],
   "source": [
    "import numpy as np\n",
    "from scipy.optimize import fsolve\n",
    "\n",
    "# Define constants\n",
    "r_val = 14\n",
    "x_val = 200 / 2\n",
    "\n",
    "# Define the equations as functions\n",
    "def I_func(t, theta):\n",
    "    return (r_val * (np.pi / 2 + t + theta - np.cos(t - theta))) / (1 + np.sin(t - theta))\n",
    "\n",
    "def f_func(t, theta):\n",
    "    I = I_func(t, theta)\n",
    "    return r_val * np.sin(t) - I * np.cos(t)\n",
    "\n",
    "def y_func(t, theta):\n",
    "    return -r_val*np.cos(t)-I_func(t,theta)*np.sin(t)\n",
    "\n",
    "\n",
    "def equation(t, theta):\n",
    "    return x_val - f_func(t, theta)\n",
    "\n",
    "# Known values\n",
    "theta_val = np.linspace(0.3,0.6,10)\n",
    "\n",
    "# Initial guess for t (since it's required for numerical solvers)\n",
    "initial_guess = np.pi/2 +theta_val\n",
    "solution_t=[]\n",
    "# Solve the equation numerically using fsolve\n",
    "for i, theta  in enumerate(theta_val):\n",
    "    soli= fsolve(equation, initial_guess[i], args=(theta))\n",
    "    solution_t.append(soli)\n",
    "\n",
    "solution_t = np.array(solution_t)\n",
    "solution_t = solution_t[:, 0]\n",
    "print(\"Solution for t (radians):\\n\", solution_t)\n",
    "y_func(solution_t, theta_val)"
   ]
  }
 ],
 "metadata": {
  "kernelspec": {
   "display_name": "Python 3",
   "language": "python",
   "name": "python3"
  },
  "language_info": {
   "codemirror_mode": {
    "name": "ipython",
    "version": 3
   },
   "file_extension": ".py",
   "mimetype": "text/x-python",
   "name": "python",
   "nbconvert_exporter": "python",
   "pygments_lexer": "ipython3",
   "version": "3.13.0"
  }
 },
 "nbformat": 4,
 "nbformat_minor": 2
}
