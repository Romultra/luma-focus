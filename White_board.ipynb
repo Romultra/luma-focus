{
 "cells": [
  {
   "cell_type": "code",
   "execution_count": 1,
   "metadata": {},
   "outputs": [],
   "source": [
    "import sympy as sp"
   ]
  },
  {
   "cell_type": "code",
   "execution_count": 17,
   "metadata": {},
   "outputs": [
    {
     "data": {
      "text/latex": [
       "$\\displaystyle x = r \\sin{\\left(t \\right)} - \\frac{r \\left(t + \\theta - \\cos{\\left(t - \\theta \\right)} + \\frac{\\pi}{2}\\right) \\cos{\\left(t \\right)}}{\\sin{\\left(t - \\theta \\right)} + 1}$"
      ],
      "text/plain": [
       "Eq(x, r*sin(t) - r*(t + theta - cos(t - theta) + pi/2)*cos(t)/(sin(t - theta) + 1))"
      ]
     },
     "metadata": {},
     "output_type": "display_data"
    },
    {
     "data": {
      "text/latex": [
       "$\\displaystyle 125.0 = - 14 \\cos{\\left(\\theta \\right)} + \\frac{14 \\left(\\sin{\\left(2 \\theta \\right)} + 2 \\pi\\right) \\sin{\\left(\\theta \\right)}}{1 - \\cos{\\left(2 \\theta \\right)}}$"
      ],
      "text/plain": [
       "Eq(125.0, -14*cos(theta) + 14*(sin(2*theta) + 2*pi)*sin(theta)/(1 - cos(2*theta)))"
      ]
     },
     "metadata": {},
     "output_type": "display_data"
    },
    {
     "data": {
      "text/plain": [
       "[-5.92362960969873 - 8.60267837055149e-23*I,\n",
       " -3.50114835107065 - 8.60267837055149e-23*I,\n",
       " 0.35955569748086 - 8.60267837055149e-23*I,\n",
       " 2.78203695610893 - 8.60267837055149e-23*I]"
      ]
     },
     "metadata": {},
     "output_type": "display_data"
    },
    {
     "data": {
      "text/latex": [
       "$\\displaystyle 20.6010239655359$"
      ],
      "text/plain": [
       "20.6010239655359"
      ]
     },
     "execution_count": 17,
     "metadata": {},
     "output_type": "execute_result"
    }
   ],
   "source": [
    "theta, x, r, t = sp.symbols('theta x r t')\n",
    "\n",
    "# Define the functions\n",
    "I = (r*(sp.pi/2 + t + theta - sp.cos(t-theta)))/(1+sp.sin(t-theta))\n",
    "f = r * sp.sin(t) - I*sp.cos(t)\n",
    "\n",
    "# Define the equation\n",
    "eq = sp.Eq(x, f)\n",
    "display(eq)\n",
    "\n",
    "# Real values\n",
    "r_val = 14\n",
    "x_val = 265/2\n",
    "t_val = 3*sp.pi/2 - theta\n",
    "\n",
    "# Solve the equation\n",
    "display(eq.subs({r: r_val, x: x_val, t: t_val}))\n",
    "#sol = sp.solve(eq.subs({r: r_val, x: x_val, t: t_val}), theta)\n",
    "display(sol)\n",
    "(sp.re(sol[2])*180/sp.pi).evalf()"
   ]
  },
  {
   "cell_type": "code",
   "execution_count": null,
   "metadata": {},
   "outputs": [],
   "source": [
    "unoi"
   ]
  }
 ],
 "metadata": {
  "kernelspec": {
   "display_name": "Python 3",
   "language": "python",
   "name": "python3"
  },
  "language_info": {
   "codemirror_mode": {
    "name": "ipython",
    "version": 3
   },
   "file_extension": ".py",
   "mimetype": "text/x-python",
   "name": "python",
   "nbconvert_exporter": "python",
   "pygments_lexer": "ipython3",
   "version": "3.13.0"
  }
 },
 "nbformat": 4,
 "nbformat_minor": 2
}
